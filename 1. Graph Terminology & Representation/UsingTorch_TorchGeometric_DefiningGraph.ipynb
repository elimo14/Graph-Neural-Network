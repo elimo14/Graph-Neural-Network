{
  "nbformat": 4,
  "nbformat_minor": 0,
  "metadata": {
    "colab": {
      "provenance": []
    },
    "kernelspec": {
      "name": "python3",
      "display_name": "Python 3"
    },
    "language_info": {
      "name": "python"
    }
  },
  "cells": [
    {
      "cell_type": "code",
      "source": [
        "pip install Data"
      ],
      "metadata": {
        "colab": {
          "base_uri": "https://localhost:8080/"
        },
        "id": "V0q1ob_pM3FJ",
        "outputId": "90fa6277-a6a4-4a04-8bf5-28c690eb6eed"
      },
      "execution_count": null,
      "outputs": [
        {
          "output_type": "stream",
          "name": "stdout",
          "text": [
            "Collecting Data\n",
            "  Downloading data-0.4.tar.gz (7.0 kB)\n",
            "  Preparing metadata (setup.py) ... \u001b[?25l\u001b[?25hdone\n",
            "Requirement already satisfied: six in /usr/local/lib/python3.11/dist-packages (from Data) (1.17.0)\n",
            "Requirement already satisfied: decorator in /usr/local/lib/python3.11/dist-packages (from Data) (4.4.2)\n",
            "Collecting funcsigs (from Data)\n",
            "  Downloading funcsigs-1.0.2-py2.py3-none-any.whl.metadata (14 kB)\n",
            "Downloading funcsigs-1.0.2-py2.py3-none-any.whl (17 kB)\n",
            "Building wheels for collected packages: Data\n",
            "  Building wheel for Data (setup.py) ... \u001b[?25l\u001b[?25hdone\n",
            "  Created wheel for Data: filename=data-0.4-py3-none-any.whl size=7227 sha256=0b8551ea79f43f1b91450c62b350d9c6939b5e6cbd9b57b3b700597c8faa9cbe\n",
            "  Stored in directory: /root/.cache/pip/wheels/d2/d3/10/d5fe9bc9dcb197ea289baccca92a25f2f95135235a92ca1b11\n",
            "Successfully built Data\n",
            "Installing collected packages: funcsigs, Data\n",
            "Successfully installed Data-0.4 funcsigs-1.0.2\n"
          ]
        }
      ]
    },
    {
      "cell_type": "code",
      "source": [
        "pip install torch_geometric"
      ],
      "metadata": {
        "colab": {
          "base_uri": "https://localhost:8080/"
        },
        "id": "NO3gfjDANAc1",
        "outputId": "f29b23e4-95c4-4ab6-add0-467b0f7691fb"
      },
      "execution_count": null,
      "outputs": [
        {
          "output_type": "stream",
          "name": "stdout",
          "text": [
            "Collecting torch_geometric\n",
            "  Downloading torch_geometric-2.6.1-py3-none-any.whl.metadata (63 kB)\n",
            "\u001b[?25l     \u001b[90m━━━━━━━━━━━━━━━━━━━━━━━━━━━━━━━━━━━━━━━━\u001b[0m \u001b[32m0.0/63.1 kB\u001b[0m \u001b[31m?\u001b[0m eta \u001b[36m-:--:--\u001b[0m\r\u001b[2K     \u001b[90m━━━━━━━━━━━━━━━━━━━━━━━━━━━━━━━━━━━━━━━━\u001b[0m \u001b[32m63.1/63.1 kB\u001b[0m \u001b[31m2.3 MB/s\u001b[0m eta \u001b[36m0:00:00\u001b[0m\n",
            "\u001b[?25hRequirement already satisfied: aiohttp in /usr/local/lib/python3.11/dist-packages (from torch_geometric) (3.11.14)\n",
            "Requirement already satisfied: fsspec in /usr/local/lib/python3.11/dist-packages (from torch_geometric) (2025.3.0)\n",
            "Requirement already satisfied: jinja2 in /usr/local/lib/python3.11/dist-packages (from torch_geometric) (3.1.6)\n",
            "Requirement already satisfied: numpy in /usr/local/lib/python3.11/dist-packages (from torch_geometric) (2.0.2)\n",
            "Requirement already satisfied: psutil>=5.8.0 in /usr/local/lib/python3.11/dist-packages (from torch_geometric) (5.9.5)\n",
            "Requirement already satisfied: pyparsing in /usr/local/lib/python3.11/dist-packages (from torch_geometric) (3.2.1)\n",
            "Requirement already satisfied: requests in /usr/local/lib/python3.11/dist-packages (from torch_geometric) (2.32.3)\n",
            "Requirement already satisfied: tqdm in /usr/local/lib/python3.11/dist-packages (from torch_geometric) (4.67.1)\n",
            "Requirement already satisfied: aiohappyeyeballs>=2.3.0 in /usr/local/lib/python3.11/dist-packages (from aiohttp->torch_geometric) (2.6.1)\n",
            "Requirement already satisfied: aiosignal>=1.1.2 in /usr/local/lib/python3.11/dist-packages (from aiohttp->torch_geometric) (1.3.2)\n",
            "Requirement already satisfied: attrs>=17.3.0 in /usr/local/lib/python3.11/dist-packages (from aiohttp->torch_geometric) (25.3.0)\n",
            "Requirement already satisfied: frozenlist>=1.1.1 in /usr/local/lib/python3.11/dist-packages (from aiohttp->torch_geometric) (1.5.0)\n",
            "Requirement already satisfied: multidict<7.0,>=4.5 in /usr/local/lib/python3.11/dist-packages (from aiohttp->torch_geometric) (6.2.0)\n",
            "Requirement already satisfied: propcache>=0.2.0 in /usr/local/lib/python3.11/dist-packages (from aiohttp->torch_geometric) (0.3.0)\n",
            "Requirement already satisfied: yarl<2.0,>=1.17.0 in /usr/local/lib/python3.11/dist-packages (from aiohttp->torch_geometric) (1.18.3)\n",
            "Requirement already satisfied: MarkupSafe>=2.0 in /usr/local/lib/python3.11/dist-packages (from jinja2->torch_geometric) (3.0.2)\n",
            "Requirement already satisfied: charset-normalizer<4,>=2 in /usr/local/lib/python3.11/dist-packages (from requests->torch_geometric) (3.4.1)\n",
            "Requirement already satisfied: idna<4,>=2.5 in /usr/local/lib/python3.11/dist-packages (from requests->torch_geometric) (3.10)\n",
            "Requirement already satisfied: urllib3<3,>=1.21.1 in /usr/local/lib/python3.11/dist-packages (from requests->torch_geometric) (2.3.0)\n",
            "Requirement already satisfied: certifi>=2017.4.17 in /usr/local/lib/python3.11/dist-packages (from requests->torch_geometric) (2025.1.31)\n",
            "Downloading torch_geometric-2.6.1-py3-none-any.whl (1.1 MB)\n",
            "\u001b[2K   \u001b[90m━━━━━━━━━━━━━━━━━━━━━━━━━━━━━━━━━━━━━━━━\u001b[0m \u001b[32m1.1/1.1 MB\u001b[0m \u001b[31m24.1 MB/s\u001b[0m eta \u001b[36m0:00:00\u001b[0m\n",
            "\u001b[?25hInstalling collected packages: torch_geometric\n",
            "Successfully installed torch_geometric-2.6.1\n"
          ]
        }
      ]
    },
    {
      "cell_type": "code",
      "source": [
        "import torch\n",
        "from torch_geometric.data import Data\n",
        "import networkx as nx\n",
        "from torch_geometric.utils.convert import to_networkx"
      ],
      "metadata": {
        "id": "90FQb8cCMsuS"
      },
      "execution_count": null,
      "outputs": []
    },
    {
      "cell_type": "code",
      "execution_count": null,
      "metadata": {
        "colab": {
          "base_uri": "https://localhost:8080/",
          "height": 513
        },
        "id": "STzxzdK3KJ9_",
        "outputId": "c13f7295-6c4d-4447-eb1c-ad8b69cae486"
      },
      "outputs": [
        {
          "output_type": "stream",
          "name": "stdout",
          "text": [
            "Number of nodes:  4\n",
            "Number of edges:  8\n",
            "Number of features per node (Length of feature vector):  6 \n",
            "\n",
            "Number of weights per edge (edge-features):  1 \n",
            "\n"
          ]
        },
        {
          "output_type": "display_data",
          "data": {
            "text/plain": [
              "<Figure size 640x480 with 1 Axes>"
            ],
            "image/png": "[encoded data removed]"
          },
          "metadata": {}
        }
      ],
      "source": [
        "\" Define a graph \"\n",
        "\n",
        "# a graph with 4 nodes\n",
        "edge_list = torch.tensor([\n",
        "                         [0, 0, 0, 1, 2, 2, 3, 3], # Source Nodes\n",
        "                         [1, 2, 3, 0, 0, 3, 2, 0]  # Target Nodes\n",
        "                        ], dtype=torch.long)\n",
        "\n",
        "# 6 Features for each node (4x6 - Number of nodes x NUmber of features)\n",
        "\n",
        "node_features = torch.tensor([\n",
        "                            [-8, 1, 5, 8, 2, -3], # Features of Node 0\n",
        "                            [-1, 0, 2, -3, 0, 1], # Features of Node 1\n",
        "                            [1, -1, 0, -1, 2, 1], # Features of Node 2\n",
        "                            [0, 1, 4, -2, 3, 4], # Features of Node 3\n",
        "                            ],dtype=torch.long)\n",
        "\n",
        "# 1 Weight for each edge\n",
        "\n",
        "edge_weight = torch.tensor([\n",
        "                            [35.], # Weight for nodes (0,1)\n",
        "                            [48.], # Weight for nodes (0,2)\n",
        "                            [12.], # Weight for nodes (0,3)\n",
        "                            [10.], # Weight for nodes (1,0)\n",
        "                            [70.], # Weight for nodes (2,0)\n",
        "                            [5.], # Weight for nodes (2,3)\n",
        "                            [15.], # Weight for nodes (3,2)\n",
        "                            [8.], # Weight for nodes (3,0)\n",
        "                            ],dtype=torch.long)\n",
        "\n",
        "# Make a data object to store graph informaiton\n",
        "data = Data(x=node_features, edge_index=edge_list, edge_attr=edge_weight)\n",
        "\n",
        "\n",
        "\" Print the graph info \"\n",
        "print(\"Number of nodes: \", data.num_nodes)\n",
        "print(\"Number of edges: \",data.num_edges)\n",
        "print(\"Number of features per node (Length of feature vector): \", data.num_node_features,\"\\n\")\n",
        "print(\"Number of weights per edge (edge-features): \", data.num_edge_features, \"\\n\")\n",
        "\n",
        "\n",
        "\n",
        "\n",
        "\" Plot the graph \"\n",
        "\n",
        "G = to_networkx(data)\n",
        "nx.draw_networkx(G)\n"
      ]
    }
  ]
}